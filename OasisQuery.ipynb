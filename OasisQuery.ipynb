{
 "cells": [
  {
   "cell_type": "code",
   "execution_count": 59,
   "metadata": {},
   "outputs": [],
   "source": [
    "import requests as r\n",
    "from io import BytesIO, StringIO\n",
    "import zipfile\n",
    "import xml.etree.ElementTree as ET\n",
    "import matplotlib.pyplot as plt"
   ]
  },
  {
   "cell_type": "markdown",
   "metadata": {},
   "source": [
    "# How To Run:\n",
    "1) Go to http://www.caiso.com/Documents/OASIS-InterfaceSpecification_v5_1_4Clean_Fall2018Release.pdf\n",
    "\n",
    "    \n",
    "    1a) Determine what you want to query (information provided in Section 5)\n",
    "\n",
    "\n",
    "2) Go to Section 6, navigate to the row for your desired information\n",
    "\n",
    "\n",
    "3) Build the 'payload' dictionary to match the neccessary parameters for the URL in Section 6\n",
    "\n",
    "    3a) The XML Name is  the 'queryname' parameter\n",
    "    3b) The startdatetime and enddatetime are this format:  YYYYMMDDTHrHr:MinMin-0000, ie: 20201019T13-30-0000 is October\n",
    "        19th, 2020 at 1:30pm \n",
    "    3c) The other parameters must be determined using the document\n",
    "\n",
    "4) Run get_data, an XML file will be returned\n",
    "\n",
    "    4a) Unfortunately, it's not trivial to convert all of these XMLs to a Pandas/Numpy structure since they can be different formats thus...\n",
    "    \n",
    "5) Convert XML to numpy/pandas (different depending on what your application is). Example provided"
   ]
  },
  {
   "cell_type": "code",
   "execution_count": 2,
   "metadata": {},
   "outputs": [],
   "source": [
    "base_url = r'http://oasis.caiso.com/oasisapi/SingleZip?'\n",
    "# ?queryname=PRC_AS&startdatetime=20191018T07:00-0000&enddatetime=20191019T07:00-0000\n",
    "# &market_run_id=DAM&version=1&as_type=ALL&as_region=ALL\n",
    "\n",
    "def get_data(params):\n",
    "    # building URL\n",
    "    url = base_url\n",
    "    for key, value in params.items():\n",
    "        url += f\"{key}={value}&\"\n",
    "    data = r.get(url[:-1]).content\n",
    "    print(\"URL:\" url)\n",
    "    try:\n",
    "        filecontent = BytesIO(data)\n",
    "    except TypeError:\n",
    "        filecontent = StringIO(data)\n",
    "\n",
    "    try:\n",
    "            # have zipfile\n",
    "        z = zipfile.ZipFile(filecontent)\n",
    "    except zipfile.BadZipfile:\n",
    "        return None\n",
    "\n",
    "        # have unzipped content\n",
    "    unzipped = [z.read(thisfile) for thisfile in z.namelist()]\n",
    "    z.close()\n",
    "\n",
    "        # return\n",
    "    return unzipped"
   ]
  },
  {
   "cell_type": "code",
   "execution_count": 3,
   "metadata": {},
   "outputs": [],
   "source": [
    "\n",
    "payload = {\n",
    "    'queryname': 'PRC_LMP', \n",
    "    'startdatetime': '20190919T07:00-0000',\n",
    "    'enddatetime': '20100920T07:00-0000',\n",
    "    'version': '1',\n",
    "    'market_run_id': 'DAM',\n",
    "    'grp_type': 'ALL_APNODES'\n",
    "}\n",
    "payload = {\n",
    "    'queryname': 'PRC_LMP', \n",
    "    'startdatetime': '20190919T07:00-0000',\n",
    "    'enddatetime': '20190920T07:00-0000',\n",
    "    'version': '1',\n",
    "    'market_run_id': 'DAM',\n",
    "    'node': 'LAPLMG1_7_B2'\n",
    "}"
   ]
  },
  {
   "cell_type": "code",
   "execution_count": 6,
   "metadata": {},
   "outputs": [
    {
     "name": "stdout",
     "output_type": "stream",
     "text": [
      "http://oasis.caiso.com/oasisapi/SingleZip?queryname=PRC_LMP&startdatetime=20190919T07:00-0000&enddatetime=20190920T07:00-0000&version=1&market_run_id=DAM&node=LAPLMG1_7_B2&\n"
     ]
    }
   ],
   "source": [
    "xml = get_data(payload)\n"
   ]
  },
  {
   "cell_type": "code",
   "execution_count": 24,
   "metadata": {},
   "outputs": [],
   "source": [
    "root = ET.fromstring(str(xml[0])[2:-3])"
   ]
  },
  {
   "cell_type": "code",
   "execution_count": 62,
   "metadata": {},
   "outputs": [
    {
     "name": "stdout",
     "output_type": "stream",
     "text": [
      "Hour 8 has value 33.79795\n",
      "Hour 9 has value 26.17796\n",
      "Hour 15 has value 19.38633\n",
      "Hour 10 has value 14.77281\n",
      "Hour 17 has value 24.35226\n",
      "Hour 18 has value 34.50551\n",
      "Hour 2 has value 28.33387\n",
      "Hour 19 has value 45.32648\n",
      "Hour 3 has value 28.86852\n",
      "Hour 4 has value 28.03001\n",
      "Hour 7 has value 38.63197\n",
      "Hour 14 has value 14.08136\n",
      "Hour 5 has value 29.02388\n",
      "Hour 6 has value 35.21413\n",
      "Hour 11 has value 6.81206\n",
      "Hour 12 has value 9.98983\n",
      "Hour 16 has value 22.29745\n",
      "Hour 13 has value 7.6052\n",
      "Hour 1 has value 29.62703\n",
      "Hour 23 has value 30.04989\n",
      "Hour 20 has value 47.59492\n",
      "Hour 21 has value 40.77988\n",
      "Hour 22 has value 35.62486\n",
      "Hour 24 has value 28.13849\n"
     ]
    },
    {
     "data": {
      "text/plain": [
       "<BarContainer object of 24 artists>"
      ]
     },
     "execution_count": 62,
     "metadata": {},
     "output_type": "execute_result"
    },
    {
     "data": {
      "image/png": "[encoded data removed]",
      "text/plain": [
       "<Figure size 432x288 with 1 Axes>"
      ]
     },
     "metadata": {
      "needs_background": "light"
     },
     "output_type": "display_data"
    }
   ],
   "source": [
    "arr = [None] * 24\n",
    "for item in root[1][0][1][1:]:\n",
    "    print(f'Hour {item[3].text} has value {item[6].text}')\n",
    "    arr[int(item[3].text)-1] = float(item[6].text)\n",
    "plt.bar(range(0,24), arr)"
   ]
  },
  {
   "cell_type": "code",
   "execution_count": 50,
   "metadata": {},
   "outputs": [],
   "source": [
    "d = root[1][0][1][1][3]"
   ]
  },
  {
   "cell_type": "code",
   "execution_count": 54,
   "metadata": {},
   "outputs": [
    {
     "data": {
      "text/plain": [
       "'8'"
      ]
     },
     "execution_count": 54,
     "metadata": {},
     "output_type": "execute_result"
    }
   ],
   "source": []
  },
  {
   "cell_type": "code",
   "execution_count": null,
   "metadata": {},
   "outputs": [],
   "source": []
  }
 ],
 "metadata": {
  "kernelspec": {
   "display_name": "Python 3",
   "language": "python",
   "name": "python3"
  },
  "language_info": {
   "codemirror_mode": {
    "name": "ipython",
    "version": 3
   },
   "file_extension": ".py",
   "mimetype": "text/x-python",
   "name": "python",
   "nbconvert_exporter": "python",
   "pygments_lexer": "ipython3",
   "version": "3.8.3"
  }
 },
 "nbformat": 4,
 "nbformat_minor": 4
}
