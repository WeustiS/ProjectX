{
  "nbformat": 4,
  "nbformat_minor": 0,
  "metadata": {
    "colab": {
      "name": "ProjectX.ipynb",
      "provenance": [],
      "collapsed_sections": [],
      "include_colab_link": true
    },
    "kernelspec": {
      "name": "python3",
      "display_name": "Python 3"
    }
  },
  "cells": [
    {
      "cell_type": "markdown",
      "metadata": {
        "id": "view-in-github",
        "colab_type": "text"
      },
      "source": [
        "<a href=\"https://colab.research.google.com/github/WeustiS/ProjectX/blob/main/ProjectX.ipynb\" target=\"_parent\"><img src=\"https://colab.research.google.com/assets/colab-badge.svg\" alt=\"Open In Colab\"/></a>"
      ]
    },
    {
      "cell_type": "code",
      "metadata": {
        "id": "KJ9TxiLl5AXn"
      },
      "source": [
        "import requests as r\n",
        "from io import BytesIO, StringIO\n",
        "import zipfile\n",
        "import xml.etree.ElementTree as ET\n",
        "import matplotlib.pyplot as plt\n",
        "import pandas as pd\n",
        "import pickle\n",
        "from google.colab import drive"
      ],
      "execution_count": null,
      "outputs": []
    },
    {
      "cell_type": "code",
      "metadata": {
        "id": "LCFhOvuW5E3O"
      },
      "source": [
        "base_url = r'http://oasis.caiso.com/oasisapi/SingleZip?'\n",
        "# ?queryname=PRC_AS&startdatetime=20191018T07:00-0000&enddatetime=20191019T07:00-0000\n",
        "# &market_run_id=DAM&version=1&as_type=ALL&as_region=ALL\n",
        "\n",
        "def get_data(params):\n",
        "    # building URL\n",
        "    url = base_url\n",
        "    for key, value in params.items():\n",
        "        url += f\"{key}={value}&\"\n",
        "    data = r.get(url[:-1]).content\n",
        "    print(\"URL:\", url)\n",
        "    try:\n",
        "        filecontent = BytesIO(data)\n",
        "    except TypeError:\n",
        "        filecontent = StringIO(data)\n",
        "\n",
        "    try:\n",
        "            # have zipfile\n",
        "        z = zipfile.ZipFile(filecontent)\n",
        "    except zipfile.BadZipfile:\n",
        "        return None\n",
        "\n",
        "        # have unzipped content\n",
        "    unzipped = [z.read(thisfile) for thisfile in z.namelist()]\n",
        "    z.close()\n",
        "\n",
        "        # return\n",
        "    return unzipped"
      ],
      "execution_count": null,
      "outputs": []
    },
    {
      "cell_type": "code",
      "metadata": {
        "id": "Sv0SmW3oQICH"
      },
      "source": [
        "# function to convert XML to \n",
        "def parse_XML(root):\n",
        "  df = pd.DataFrame(columns=['Variable', 'Node', 'Date','Interval Number','Value'])\n",
        "  j = 0\n",
        "  #\n",
        "  for i in root[1][0][4][1:]:\n",
        "    #print(i[2].text, float(i[6].text))\\\n",
        "    new_row = {'Variable':i[0].text, 'Node':i[1].text, 'Date':i[2].text, 'Interval Number':float(i[3].text),'Value':float(i[6].text)}\n",
        "    #append row to the dataframe\n",
        "    df = df.append(new_row, ignore_index=True)\n",
        "  return df"
      ],
      "execution_count": null,
      "outputs": []
    },
    {
      "cell_type": "code",
      "metadata": {
        "id": "6jnU673g5Mo5"
      },
      "source": [
        "payload = {\n",
        "    'queryname': 'PRC_INTVL_LMP', \n",
        "    'startdatetime': '20190919T07:00-0000',\n",
        "    'enddatetime': '20190920T07:00-0000',\n",
        "    'version': '1',\n",
        "    'market_run_id': 'RTM',\n",
        "    'node': 'LAPLMG1_7_B2'\n",
        "}"
      ],
      "execution_count": null,
      "outputs": []
    },
    {
      "cell_type": "code",
      "metadata": {
        "id": "cFhTpAQWUFWo",
        "outputId": "447d61c1-f72c-474f-b995-4b0f470aa08d",
        "colab": {
          "base_uri": "https://localhost:8080/",
          "height": 35
        }
      },
      "source": [
        ""
      ],
      "execution_count": null,
      "outputs": [
        {
          "output_type": "execute_result",
          "data": {
            "application/vnd.google.colaboratory.intrinsic+json": {
              "type": "string"
            },
            "text/plain": [
              "'20160102T07:00-0000'"
            ]
          },
          "metadata": {
            "tags": []
          },
          "execution_count": 45
        }
      ]
    },
    {
      "cell_type": "code",
      "metadata": {
        "id": "IKPtngBfQvtG",
        "outputId": "ecfe4a21-78f2-4cd3-8102-e25d2a5b6ce0",
        "colab": {
          "base_uri": "https://localhost:8080/",
          "height": 1000
        }
      },
      "source": [
        "start_date = \"\"\n",
        "end_date = \"\"\n",
        "DF_list= list()\n",
        "for i in range(1,30):\n",
        "  if (i < 10):\n",
        "    print(i)\n",
        "    start_date = '2018010' + str(i)+'T07:00-0000'\n",
        "    end_date = '2018010' + str(i+1)+'T07:00-0000'\n",
        "    print(start_date)\n",
        "    print(end_date)\n",
        "    payload = {\n",
        "      'queryname': 'PRC_INTVL_LMP', \n",
        "      'startdatetime': start_date,\n",
        "      'enddatetime': end_date,\n",
        "      'version': '1',\n",
        "      'market_run_id': 'RTM',\n",
        "      'node': 'LAPLMG1_7_B2'\n",
        "    }\n",
        "    xml = get_data(payload)\n",
        "    display(type(xml))\n",
        "    if (xml is None):\n",
        "      continue\n",
        "    xml_to_string = str(xml[0],'utf-8')\n",
        "    root = ET.fromstring(xml_to_string)\n",
        "    print(root[1][0][4][1].text)\n",
        "    data = parse_XML(root)\n",
        "    display(data.head(5))\n",
        "    DF_list.append(data)\n",
        "  else:\n",
        "    start_date = '201801' + str(i)+'T07:00-0000'\n",
        "    end_date = '201801' + str(i+1)+'T07:00-0000'\n",
        "    print(start_date)\n",
        "    print(end_date)\n",
        "    payload = {\n",
        "      'queryname': 'PRC_INTVL_LMP', \n",
        "      'startdatetime': start_date,\n",
        "      'enddatetime': end_date,\n",
        "      'version': '1',\n",
        "      'market_run_id': 'RTM',\n",
        "      'node': 'LAPLMG1_7_B2'\n",
        "    }\n",
        "    xml = get_data(payload)\n",
        "    display(type(xml))\n",
        "    if (xml is None):\n",
        "      continue\n",
        "    xml_to_string = str(xml[0],'utf-8')\n",
        "    root = ET.fromstring(xml_to_string)\n",
        "    print(root[1][0][4][1].text)\n",
        "    data = parse_XML(root)\n",
        "    display(data.head(5))\n",
        "    DF_list.append(data)\n",
        "\n",
        "\n",
        "\n"
      ],
      "execution_count": 32,
      "outputs": [
        {
          "output_type": "stream",
          "text": [
            "1\n",
            "20180101T07:00-0000\n",
            "20180102T07:00-0000\n",
            "URL: http://oasis.caiso.com/oasisapi/SingleZip?queryname=PRC_INTVL_LMP&startdatetime=20180101T07:00-0000&enddatetime=20180102T07:00-0000&version=1&market_run_id=RTM&node=LAPLMG1_7_B2&\n"
          ],
          "name": "stdout"
        },
        {
          "output_type": "display_data",
          "data": {
            "text/plain": [
              "list"
            ]
          },
          "metadata": {
            "tags": []
          }
        },
        {
          "output_type": "stream",
          "text": [
            "\n",
            "\n"
          ],
          "name": "stdout"
        },
        {
          "output_type": "display_data",
          "data": {
            "text/html": [
              "<div>\n",
              "<style scoped>\n",
              "    .dataframe tbody tr th:only-of-type {\n",
              "        vertical-align: middle;\n",
              "    }\n",
              "\n",
              "    .dataframe tbody tr th {\n",
              "        vertical-align: top;\n",
              "    }\n",
              "\n",
              "    .dataframe thead th {\n",
              "        text-align: right;\n",
              "    }\n",
              "</style>\n",
              "<table border=\"1\" class=\"dataframe\">\n",
              "  <thead>\n",
              "    <tr style=\"text-align: right;\">\n",
              "      <th></th>\n",
              "      <th>Variable</th>\n",
              "      <th>Node</th>\n",
              "      <th>Date</th>\n",
              "      <th>Interval Number</th>\n",
              "      <th>Value</th>\n",
              "    </tr>\n",
              "  </thead>\n",
              "  <tbody>\n",
              "    <tr>\n",
              "      <th>0</th>\n",
              "      <td>LMP_PRC</td>\n",
              "      <td>LAPLMG1_7_B2</td>\n",
              "      <td>2017-12-31</td>\n",
              "      <td>277.0</td>\n",
              "      <td>48.65308</td>\n",
              "    </tr>\n",
              "    <tr>\n",
              "      <th>1</th>\n",
              "      <td>LMP_PRC</td>\n",
              "      <td>LAPLMG1_7_B2</td>\n",
              "      <td>2017-12-31</td>\n",
              "      <td>278.0</td>\n",
              "      <td>52.64113</td>\n",
              "    </tr>\n",
              "    <tr>\n",
              "      <th>2</th>\n",
              "      <td>LMP_PRC</td>\n",
              "      <td>LAPLMG1_7_B2</td>\n",
              "      <td>2017-12-31</td>\n",
              "      <td>279.0</td>\n",
              "      <td>48.65308</td>\n",
              "    </tr>\n",
              "    <tr>\n",
              "      <th>3</th>\n",
              "      <td>LMP_PRC</td>\n",
              "      <td>LAPLMG1_7_B2</td>\n",
              "      <td>2017-12-31</td>\n",
              "      <td>280.0</td>\n",
              "      <td>48.73813</td>\n",
              "    </tr>\n",
              "    <tr>\n",
              "      <th>4</th>\n",
              "      <td>LMP_PRC</td>\n",
              "      <td>LAPLMG1_7_B2</td>\n",
              "      <td>2017-12-31</td>\n",
              "      <td>281.0</td>\n",
              "      <td>48.73813</td>\n",
              "    </tr>\n",
              "  </tbody>\n",
              "</table>\n",
              "</div>"
            ],
            "text/plain": [
              "  Variable          Node        Date  Interval Number     Value\n",
              "0  LMP_PRC  LAPLMG1_7_B2  2017-12-31            277.0  48.65308\n",
              "1  LMP_PRC  LAPLMG1_7_B2  2017-12-31            278.0  52.64113\n",
              "2  LMP_PRC  LAPLMG1_7_B2  2017-12-31            279.0  48.65308\n",
              "3  LMP_PRC  LAPLMG1_7_B2  2017-12-31            280.0  48.73813\n",
              "4  LMP_PRC  LAPLMG1_7_B2  2017-12-31            281.0  48.73813"
            ]
          },
          "metadata": {
            "tags": []
          }
        },
        {
          "output_type": "stream",
          "text": [
            "2\n",
            "20180102T07:00-0000\n",
            "20180103T07:00-0000\n",
            "URL: http://oasis.caiso.com/oasisapi/SingleZip?queryname=PRC_INTVL_LMP&startdatetime=20180102T07:00-0000&enddatetime=20180103T07:00-0000&version=1&market_run_id=RTM&node=LAPLMG1_7_B2&\n"
          ],
          "name": "stdout"
        },
        {
          "output_type": "display_data",
          "data": {
            "text/plain": [
              "NoneType"
            ]
          },
          "metadata": {
            "tags": []
          }
        },
        {
          "output_type": "stream",
          "text": [
            "3\n",
            "20180103T07:00-0000\n",
            "20180104T07:00-0000\n",
            "URL: http://oasis.caiso.com/oasisapi/SingleZip?queryname=PRC_INTVL_LMP&startdatetime=20180103T07:00-0000&enddatetime=20180104T07:00-0000&version=1&market_run_id=RTM&node=LAPLMG1_7_B2&\n"
          ],
          "name": "stdout"
        },
        {
          "output_type": "display_data",
          "data": {
            "text/plain": [
              "NoneType"
            ]
          },
          "metadata": {
            "tags": []
          }
        },
        {
          "output_type": "stream",
          "text": [
            "4\n",
            "20180104T07:00-0000\n",
            "20180105T07:00-0000\n",
            "URL: http://oasis.caiso.com/oasisapi/SingleZip?queryname=PRC_INTVL_LMP&startdatetime=20180104T07:00-0000&enddatetime=20180105T07:00-0000&version=1&market_run_id=RTM&node=LAPLMG1_7_B2&\n"
          ],
          "name": "stdout"
        },
        {
          "output_type": "display_data",
          "data": {
            "text/plain": [
              "NoneType"
            ]
          },
          "metadata": {
            "tags": []
          }
        },
        {
          "output_type": "stream",
          "text": [
            "5\n",
            "20180105T07:00-0000\n",
            "20180106T07:00-0000\n",
            "URL: http://oasis.caiso.com/oasisapi/SingleZip?queryname=PRC_INTVL_LMP&startdatetime=20180105T07:00-0000&enddatetime=20180106T07:00-0000&version=1&market_run_id=RTM&node=LAPLMG1_7_B2&\n"
          ],
          "name": "stdout"
        },
        {
          "output_type": "display_data",
          "data": {
            "text/plain": [
              "NoneType"
            ]
          },
          "metadata": {
            "tags": []
          }
        },
        {
          "output_type": "stream",
          "text": [
            "6\n",
            "20180106T07:00-0000\n",
            "20180107T07:00-0000\n",
            "URL: http://oasis.caiso.com/oasisapi/SingleZip?queryname=PRC_INTVL_LMP&startdatetime=20180106T07:00-0000&enddatetime=20180107T07:00-0000&version=1&market_run_id=RTM&node=LAPLMG1_7_B2&\n"
          ],
          "name": "stdout"
        },
        {
          "output_type": "display_data",
          "data": {
            "text/plain": [
              "NoneType"
            ]
          },
          "metadata": {
            "tags": []
          }
        },
        {
          "output_type": "stream",
          "text": [
            "7\n",
            "20180107T07:00-0000\n",
            "20180108T07:00-0000\n",
            "URL: http://oasis.caiso.com/oasisapi/SingleZip?queryname=PRC_INTVL_LMP&startdatetime=20180107T07:00-0000&enddatetime=20180108T07:00-0000&version=1&market_run_id=RTM&node=LAPLMG1_7_B2&\n"
          ],
          "name": "stdout"
        },
        {
          "output_type": "display_data",
          "data": {
            "text/plain": [
              "NoneType"
            ]
          },
          "metadata": {
            "tags": []
          }
        },
        {
          "output_type": "stream",
          "text": [
            "8\n",
            "20180108T07:00-0000\n",
            "20180109T07:00-0000\n",
            "URL: http://oasis.caiso.com/oasisapi/SingleZip?queryname=PRC_INTVL_LMP&startdatetime=20180108T07:00-0000&enddatetime=20180109T07:00-0000&version=1&market_run_id=RTM&node=LAPLMG1_7_B2&\n"
          ],
          "name": "stdout"
        },
        {
          "output_type": "display_data",
          "data": {
            "text/plain": [
              "NoneType"
            ]
          },
          "metadata": {
            "tags": []
          }
        },
        {
          "output_type": "stream",
          "text": [
            "9\n",
            "20180109T07:00-0000\n",
            "201801010T07:00-0000\n",
            "URL: http://oasis.caiso.com/oasisapi/SingleZip?queryname=PRC_INTVL_LMP&startdatetime=20180109T07:00-0000&enddatetime=201801010T07:00-0000&version=1&market_run_id=RTM&node=LAPLMG1_7_B2&\n"
          ],
          "name": "stdout"
        },
        {
          "output_type": "display_data",
          "data": {
            "text/plain": [
              "list"
            ]
          },
          "metadata": {
            "tags": []
          }
        },
        {
          "output_type": "stream",
          "text": [
            "\n",
            "\n"
          ],
          "name": "stdout"
        },
        {
          "output_type": "display_data",
          "data": {
            "text/html": [
              "<div>\n",
              "<style scoped>\n",
              "    .dataframe tbody tr th:only-of-type {\n",
              "        vertical-align: middle;\n",
              "    }\n",
              "\n",
              "    .dataframe tbody tr th {\n",
              "        vertical-align: top;\n",
              "    }\n",
              "\n",
              "    .dataframe thead th {\n",
              "        text-align: right;\n",
              "    }\n",
              "</style>\n",
              "<table border=\"1\" class=\"dataframe\">\n",
              "  <thead>\n",
              "    <tr style=\"text-align: right;\">\n",
              "      <th></th>\n",
              "      <th>Variable</th>\n",
              "      <th>Node</th>\n",
              "      <th>Date</th>\n",
              "      <th>Interval Number</th>\n",
              "      <th>Value</th>\n",
              "    </tr>\n",
              "  </thead>\n",
              "  <tbody>\n",
              "    <tr>\n",
              "      <th>0</th>\n",
              "      <td>LMP_PRC</td>\n",
              "      <td>LAPLMG1_7_B2</td>\n",
              "      <td>2018-01-08</td>\n",
              "      <td>277.0</td>\n",
              "      <td>20.95229</td>\n",
              "    </tr>\n",
              "    <tr>\n",
              "      <th>1</th>\n",
              "      <td>LMP_PRC</td>\n",
              "      <td>LAPLMG1_7_B2</td>\n",
              "      <td>2018-01-08</td>\n",
              "      <td>278.0</td>\n",
              "      <td>21.47091</td>\n",
              "    </tr>\n",
              "    <tr>\n",
              "      <th>2</th>\n",
              "      <td>LMP_PRC</td>\n",
              "      <td>LAPLMG1_7_B2</td>\n",
              "      <td>2018-01-08</td>\n",
              "      <td>279.0</td>\n",
              "      <td>23.76117</td>\n",
              "    </tr>\n",
              "    <tr>\n",
              "      <th>3</th>\n",
              "      <td>LMP_PRC</td>\n",
              "      <td>LAPLMG1_7_B2</td>\n",
              "      <td>2018-01-08</td>\n",
              "      <td>280.0</td>\n",
              "      <td>23.30789</td>\n",
              "    </tr>\n",
              "    <tr>\n",
              "      <th>4</th>\n",
              "      <td>LMP_PRC</td>\n",
              "      <td>LAPLMG1_7_B2</td>\n",
              "      <td>2018-01-08</td>\n",
              "      <td>281.0</td>\n",
              "      <td>23.49524</td>\n",
              "    </tr>\n",
              "  </tbody>\n",
              "</table>\n",
              "</div>"
            ],
            "text/plain": [
              "  Variable          Node        Date  Interval Number     Value\n",
              "0  LMP_PRC  LAPLMG1_7_B2  2018-01-08            277.0  20.95229\n",
              "1  LMP_PRC  LAPLMG1_7_B2  2018-01-08            278.0  21.47091\n",
              "2  LMP_PRC  LAPLMG1_7_B2  2018-01-08            279.0  23.76117\n",
              "3  LMP_PRC  LAPLMG1_7_B2  2018-01-08            280.0  23.30789\n",
              "4  LMP_PRC  LAPLMG1_7_B2  2018-01-08            281.0  23.49524"
            ]
          },
          "metadata": {
            "tags": []
          }
        },
        {
          "output_type": "stream",
          "text": [
            "20180110T07:00-0000\n",
            "20180111T07:00-0000\n",
            "URL: http://oasis.caiso.com/oasisapi/SingleZip?queryname=PRC_INTVL_LMP&startdatetime=20180110T07:00-0000&enddatetime=20180111T07:00-0000&version=1&market_run_id=RTM&node=LAPLMG1_7_B2&\n"
          ],
          "name": "stdout"
        },
        {
          "output_type": "display_data",
          "data": {
            "text/plain": [
              "NoneType"
            ]
          },
          "metadata": {
            "tags": []
          }
        },
        {
          "output_type": "stream",
          "text": [
            "20180111T07:00-0000\n",
            "20180112T07:00-0000\n",
            "URL: http://oasis.caiso.com/oasisapi/SingleZip?queryname=PRC_INTVL_LMP&startdatetime=20180111T07:00-0000&enddatetime=20180112T07:00-0000&version=1&market_run_id=RTM&node=LAPLMG1_7_B2&\n"
          ],
          "name": "stdout"
        },
        {
          "output_type": "display_data",
          "data": {
            "text/plain": [
              "NoneType"
            ]
          },
          "metadata": {
            "tags": []
          }
        },
        {
          "output_type": "stream",
          "text": [
            "20180112T07:00-0000\n",
            "20180113T07:00-0000\n",
            "URL: http://oasis.caiso.com/oasisapi/SingleZip?queryname=PRC_INTVL_LMP&startdatetime=20180112T07:00-0000&enddatetime=20180113T07:00-0000&version=1&market_run_id=RTM&node=LAPLMG1_7_B2&\n"
          ],
          "name": "stdout"
        },
        {
          "output_type": "display_data",
          "data": {
            "text/plain": [
              "NoneType"
            ]
          },
          "metadata": {
            "tags": []
          }
        },
        {
          "output_type": "stream",
          "text": [
            "20180113T07:00-0000\n",
            "20180114T07:00-0000\n",
            "URL: http://oasis.caiso.com/oasisapi/SingleZip?queryname=PRC_INTVL_LMP&startdatetime=20180113T07:00-0000&enddatetime=20180114T07:00-0000&version=1&market_run_id=RTM&node=LAPLMG1_7_B2&\n"
          ],
          "name": "stdout"
        },
        {
          "output_type": "display_data",
          "data": {
            "text/plain": [
              "NoneType"
            ]
          },
          "metadata": {
            "tags": []
          }
        },
        {
          "output_type": "stream",
          "text": [
            "20180114T07:00-0000\n",
            "20180115T07:00-0000\n",
            "URL: http://oasis.caiso.com/oasisapi/SingleZip?queryname=PRC_INTVL_LMP&startdatetime=20180114T07:00-0000&enddatetime=20180115T07:00-0000&version=1&market_run_id=RTM&node=LAPLMG1_7_B2&\n"
          ],
          "name": "stdout"
        },
        {
          "output_type": "display_data",
          "data": {
            "text/plain": [
              "NoneType"
            ]
          },
          "metadata": {
            "tags": []
          }
        },
        {
          "output_type": "stream",
          "text": [
            "20180115T07:00-0000\n",
            "20180116T07:00-0000\n",
            "URL: http://oasis.caiso.com/oasisapi/SingleZip?queryname=PRC_INTVL_LMP&startdatetime=20180115T07:00-0000&enddatetime=20180116T07:00-0000&version=1&market_run_id=RTM&node=LAPLMG1_7_B2&\n"
          ],
          "name": "stdout"
        },
        {
          "output_type": "display_data",
          "data": {
            "text/plain": [
              "NoneType"
            ]
          },
          "metadata": {
            "tags": []
          }
        },
        {
          "output_type": "stream",
          "text": [
            "20180116T07:00-0000\n",
            "20180117T07:00-0000\n",
            "URL: http://oasis.caiso.com/oasisapi/SingleZip?queryname=PRC_INTVL_LMP&startdatetime=20180116T07:00-0000&enddatetime=20180117T07:00-0000&version=1&market_run_id=RTM&node=LAPLMG1_7_B2&\n"
          ],
          "name": "stdout"
        },
        {
          "output_type": "display_data",
          "data": {
            "text/plain": [
              "NoneType"
            ]
          },
          "metadata": {
            "tags": []
          }
        },
        {
          "output_type": "stream",
          "text": [
            "20180117T07:00-0000\n",
            "20180118T07:00-0000\n",
            "URL: http://oasis.caiso.com/oasisapi/SingleZip?queryname=PRC_INTVL_LMP&startdatetime=20180117T07:00-0000&enddatetime=20180118T07:00-0000&version=1&market_run_id=RTM&node=LAPLMG1_7_B2&\n"
          ],
          "name": "stdout"
        },
        {
          "output_type": "display_data",
          "data": {
            "text/plain": [
              "NoneType"
            ]
          },
          "metadata": {
            "tags": []
          }
        },
        {
          "output_type": "stream",
          "text": [
            "20180118T07:00-0000\n",
            "20180119T07:00-0000\n",
            "URL: http://oasis.caiso.com/oasisapi/SingleZip?queryname=PRC_INTVL_LMP&startdatetime=20180118T07:00-0000&enddatetime=20180119T07:00-0000&version=1&market_run_id=RTM&node=LAPLMG1_7_B2&\n"
          ],
          "name": "stdout"
        },
        {
          "output_type": "display_data",
          "data": {
            "text/plain": [
              "NoneType"
            ]
          },
          "metadata": {
            "tags": []
          }
        },
        {
          "output_type": "stream",
          "text": [
            "20180119T07:00-0000\n",
            "20180120T07:00-0000\n",
            "URL: http://oasis.caiso.com/oasisapi/SingleZip?queryname=PRC_INTVL_LMP&startdatetime=20180119T07:00-0000&enddatetime=20180120T07:00-0000&version=1&market_run_id=RTM&node=LAPLMG1_7_B2&\n"
          ],
          "name": "stdout"
        },
        {
          "output_type": "display_data",
          "data": {
            "text/plain": [
              "NoneType"
            ]
          },
          "metadata": {
            "tags": []
          }
        },
        {
          "output_type": "stream",
          "text": [
            "20180120T07:00-0000\n",
            "20180121T07:00-0000\n",
            "URL: http://oasis.caiso.com/oasisapi/SingleZip?queryname=PRC_INTVL_LMP&startdatetime=20180120T07:00-0000&enddatetime=20180121T07:00-0000&version=1&market_run_id=RTM&node=LAPLMG1_7_B2&\n"
          ],
          "name": "stdout"
        },
        {
          "output_type": "display_data",
          "data": {
            "text/plain": [
              "NoneType"
            ]
          },
          "metadata": {
            "tags": []
          }
        },
        {
          "output_type": "stream",
          "text": [
            "20180121T07:00-0000\n",
            "20180122T07:00-0000\n",
            "URL: http://oasis.caiso.com/oasisapi/SingleZip?queryname=PRC_INTVL_LMP&startdatetime=20180121T07:00-0000&enddatetime=20180122T07:00-0000&version=1&market_run_id=RTM&node=LAPLMG1_7_B2&\n"
          ],
          "name": "stdout"
        },
        {
          "output_type": "display_data",
          "data": {
            "text/plain": [
              "NoneType"
            ]
          },
          "metadata": {
            "tags": []
          }
        },
        {
          "output_type": "stream",
          "text": [
            "20180122T07:00-0000\n",
            "20180123T07:00-0000\n",
            "URL: http://oasis.caiso.com/oasisapi/SingleZip?queryname=PRC_INTVL_LMP&startdatetime=20180122T07:00-0000&enddatetime=20180123T07:00-0000&version=1&market_run_id=RTM&node=LAPLMG1_7_B2&\n"
          ],
          "name": "stdout"
        },
        {
          "output_type": "display_data",
          "data": {
            "text/plain": [
              "NoneType"
            ]
          },
          "metadata": {
            "tags": []
          }
        },
        {
          "output_type": "stream",
          "text": [
            "20180123T07:00-0000\n",
            "20180124T07:00-0000\n",
            "URL: http://oasis.caiso.com/oasisapi/SingleZip?queryname=PRC_INTVL_LMP&startdatetime=20180123T07:00-0000&enddatetime=20180124T07:00-0000&version=1&market_run_id=RTM&node=LAPLMG1_7_B2&\n"
          ],
          "name": "stdout"
        },
        {
          "output_type": "display_data",
          "data": {
            "text/plain": [
              "NoneType"
            ]
          },
          "metadata": {
            "tags": []
          }
        },
        {
          "output_type": "stream",
          "text": [
            "20180124T07:00-0000\n",
            "20180125T07:00-0000\n",
            "URL: http://oasis.caiso.com/oasisapi/SingleZip?queryname=PRC_INTVL_LMP&startdatetime=20180124T07:00-0000&enddatetime=20180125T07:00-0000&version=1&market_run_id=RTM&node=LAPLMG1_7_B2&\n"
          ],
          "name": "stdout"
        },
        {
          "output_type": "display_data",
          "data": {
            "text/plain": [
              "NoneType"
            ]
          },
          "metadata": {
            "tags": []
          }
        },
        {
          "output_type": "stream",
          "text": [
            "20180125T07:00-0000\n",
            "20180126T07:00-0000\n",
            "URL: http://oasis.caiso.com/oasisapi/SingleZip?queryname=PRC_INTVL_LMP&startdatetime=20180125T07:00-0000&enddatetime=20180126T07:00-0000&version=1&market_run_id=RTM&node=LAPLMG1_7_B2&\n"
          ],
          "name": "stdout"
        },
        {
          "output_type": "display_data",
          "data": {
            "text/plain": [
              "NoneType"
            ]
          },
          "metadata": {
            "tags": []
          }
        },
        {
          "output_type": "stream",
          "text": [
            "20180126T07:00-0000\n",
            "20180127T07:00-0000\n",
            "URL: http://oasis.caiso.com/oasisapi/SingleZip?queryname=PRC_INTVL_LMP&startdatetime=20180126T07:00-0000&enddatetime=20180127T07:00-0000&version=1&market_run_id=RTM&node=LAPLMG1_7_B2&\n"
          ],
          "name": "stdout"
        },
        {
          "output_type": "display_data",
          "data": {
            "text/plain": [
              "NoneType"
            ]
          },
          "metadata": {
            "tags": []
          }
        },
        {
          "output_type": "stream",
          "text": [
            "20180127T07:00-0000\n",
            "20180128T07:00-0000\n",
            "URL: http://oasis.caiso.com/oasisapi/SingleZip?queryname=PRC_INTVL_LMP&startdatetime=20180127T07:00-0000&enddatetime=20180128T07:00-0000&version=1&market_run_id=RTM&node=LAPLMG1_7_B2&\n"
          ],
          "name": "stdout"
        },
        {
          "output_type": "display_data",
          "data": {
            "text/plain": [
              "NoneType"
            ]
          },
          "metadata": {
            "tags": []
          }
        },
        {
          "output_type": "stream",
          "text": [
            "20180128T07:00-0000\n",
            "20180129T07:00-0000\n",
            "URL: http://oasis.caiso.com/oasisapi/SingleZip?queryname=PRC_INTVL_LMP&startdatetime=20180128T07:00-0000&enddatetime=20180129T07:00-0000&version=1&market_run_id=RTM&node=LAPLMG1_7_B2&\n"
          ],
          "name": "stdout"
        },
        {
          "output_type": "display_data",
          "data": {
            "text/plain": [
              "NoneType"
            ]
          },
          "metadata": {
            "tags": []
          }
        },
        {
          "output_type": "stream",
          "text": [
            "20180129T07:00-0000\n",
            "20180130T07:00-0000\n",
            "URL: http://oasis.caiso.com/oasisapi/SingleZip?queryname=PRC_INTVL_LMP&startdatetime=20180129T07:00-0000&enddatetime=20180130T07:00-0000&version=1&market_run_id=RTM&node=LAPLMG1_7_B2&\n"
          ],
          "name": "stdout"
        },
        {
          "output_type": "display_data",
          "data": {
            "text/plain": [
              "NoneType"
            ]
          },
          "metadata": {
            "tags": []
          }
        }
      ]
    },
    {
      "cell_type": "code",
      "metadata": {
        "id": "nHm5lZcEQaYN",
        "outputId": "807d4c55-4001-4919-b09c-1359d17c5303",
        "colab": {
          "base_uri": "https://localhost:8080/"
        }
      },
      "source": [
        "=type(payload)"
      ],
      "execution_count": null,
      "outputs": [
        {
          "output_type": "execute_result",
          "data": {
            "text/plain": [
              "dict"
            ]
          },
          "metadata": {
            "tags": []
          },
          "execution_count": 33
        }
      ]
    },
    {
      "cell_type": "code",
      "metadata": {
        "id": "87nFn7Cy5Qs-",
        "outputId": "0ec49c9c-df6a-4bd6-9072-b25d8362f316",
        "colab": {
          "base_uri": "https://localhost:8080/"
        }
      },
      "source": [
        "xml = get_data(payload)\n",
        "xml_to_string = str(xml[0],'utf-8')\n",
        "root = ET.fromstring(xml_to_string)"
      ],
      "execution_count": null,
      "outputs": [
        {
          "output_type": "stream",
          "text": [
            "URL: http://oasis.caiso.com/oasisapi/SingleZip?queryname=PRC_INTVL_LMP&startdatetime=20190919T07:00-0000&enddatetime=20190920T07:00-0000&version=1&market_run_id=RTM&node=LAPLMG1_7_B2&\n"
          ],
          "name": "stdout"
        }
      ]
    },
    {
      "cell_type": "code",
      "metadata": {
        "id": "UR213fk3RANV"
      },
      "source": [
        ""
      ],
      "execution_count": null,
      "outputs": []
    },
    {
      "cell_type": "code",
      "metadata": {
        "id": "eH_f4NZ6rtPV",
        "outputId": "17fde69e-d64e-4390-9f41-5c9bedcf274f",
        "colab": {
          "base_uri": "https://localhost:8080/",
          "height": 35
        }
      },
      "source": [
        "root[1][0][4][2][0].text"
      ],
      "execution_count": null,
      "outputs": [
        {
          "output_type": "execute_result",
          "data": {
            "application/vnd.google.colaboratory.intrinsic+json": {
              "type": "string"
            },
            "text/plain": [
              "'LMP_PRC'"
            ]
          },
          "metadata": {
            "tags": []
          },
          "execution_count": 43
        }
      ]
    },
    {
      "cell_type": "code",
      "metadata": {
        "id": "f8RIr27yYZNk"
      },
      "source": [
        ""
      ],
      "execution_count": null,
      "outputs": []
    },
    {
      "cell_type": "code",
      "metadata": {
        "id": "3IWu26ZzdDSR",
        "outputId": "7c73684e-8202-4beb-94f9-5620051d3da6",
        "colab": {
          "base_uri": "https://localhost:8080/"
        }
      },
      "source": [
        "data = parse_XML(root)\n",
        "drive.mount('drive', force_remount=True)\n",
        "data.to_csv('20190919.csv', index = False)\n",
        "!cp 20190919.csv \"drive/My Drive/ProjectX Data\""
      ],
      "execution_count": null,
      "outputs": [
        {
          "output_type": "stream",
          "text": [
            "Mounted at drive\n"
          ],
          "name": "stdout"
        }
      ]
    },
    {
      "cell_type": "code",
      "metadata": {
        "id": "vRx6cnif5g11"
      },
      "source": [
        "|"
      ],
      "execution_count": null,
      "outputs": []
    }
  ]
}